{
 "cells": [
  {
   "cell_type": "code",
   "execution_count": 4,
   "id": "b9068fd0-5fe6-4cba-95ca-0e215b397e67",
   "metadata": {},
   "outputs": [],
   "source": [
    "#Exploratory Analysis of Dataset"
   ]
  },
  {
   "cell_type": "code",
   "execution_count": 60,
   "id": "456838fe-306e-4e3a-9297-53039a5a17af",
   "metadata": {},
   "outputs": [],
   "source": [
    "import pandas as pd\n",
    "path = \"/home/daniel/projetodados/data-stack/\"\n",
    "df_full = pd.read_csv(path + \"full-movies-dataset.csv\")\n",
    "df_netflix = pd.read_csv(path + \"netflix-dataset.csv\")\n",
    "df_amazon = pd.read_csv(path + \"amazon-dataset.csv\")"
   ]
  },
  {
   "cell_type": "code",
   "execution_count": 40,
   "id": "f85ea394-186c-4046-99be-f283a73a7a19",
   "metadata": {},
   "outputs": [
    {
     "name": "stdout",
     "output_type": "stream",
     "text": [
      "Columns full dataset:  ['id', 'title', 'vote_average', 'vote_count', 'status', 'release_date', 'revenue', 'runtime', 'adult', 'backdrop_path', 'budget', 'homepage', 'imdb_id', 'original_language', 'original_title', 'overview', 'popularity', 'poster_path', 'tagline', 'genres', 'production_companies', 'production_countries', 'spoken_languages', 'keywords'] \n",
      "\n",
      "Columns netflix dataset:  ['show_id', 'type', 'title', 'director', 'cast', 'country', 'date_added', 'release_year', 'rating', 'duration', 'listed_in', 'description'] \n",
      "\n",
      "Columns amazon dataset:  ['show_id', 'type', 'title', 'director', 'cast', 'country', 'date_added', 'release_year', 'rating', 'duration', 'listed_in', 'description']\n"
     ]
    }
   ],
   "source": [
    "#Opening the datasets\n",
    "full_columns = df_full.columns.tolist()\n",
    "netflix_columns = df_netflix.columns.tolist()\n",
    "amazon_columns = df_amazon.columns.tolist()\n",
    "\n",
    "print(\"Columns full dataset: \", full_columns, \"\\n\\n\"\n",
    "     \"Columns netflix dataset: \", netflix_columns, \"\\n\\n\"\n",
    "     \"Columns amazon dataset: \", amazon_columns)"
   ]
  },
  {
   "cell_type": "code",
   "execution_count": 51,
   "id": "dee46813-1e6d-4776-933a-a163320643d8",
   "metadata": {},
   "outputs": [
    {
     "name": "stdout",
     "output_type": "stream",
     "text": [
      "       id            title  vote_average  vote_count    status release_date  \\\n",
      "0   27205        Inception         8.364       34495  Released   2010-07-15   \n",
      "1  157336     Interstellar         8.417       32571  Released   2014-11-05   \n",
      "2     155  The Dark Knight         8.512       30619  Released   2008-07-16   \n",
      "3   19995           Avatar         7.573       29815  Released   2009-12-15   \n",
      "4   24428     The Avengers         7.710       29166  Released   2012-04-25   \n",
      "\n",
      "      revenue  runtime  adult                     backdrop_path  ...  \\\n",
      "0   825532764      148  False  /8ZTVqvKDQ8emSGUEMjsS4yHAwrp.jpg  ...   \n",
      "1   701729206      169  False  /pbrkL804c8yAv3zBZR4QPEafpAR.jpg  ...   \n",
      "2  1004558444      152  False  /nMKdUUepR0i5zn0y1T4CsSB5chy.jpg  ...   \n",
      "3  2923706026      162  False  /vL5LR6WdxWPjLPFRLe133jXWsh5.jpg  ...   \n",
      "4  1518815515      143  False  /9BBTo63ANSmhC4e6r62OJFuK2GL.jpg  ...   \n",
      "\n",
      "    original_title                                           overview  \\\n",
      "0        Inception  Cobb, a skilled thief who commits corporate es...   \n",
      "1     Interstellar  The adventures of a group of explorers who mak...   \n",
      "2  The Dark Knight  Batman raises the stakes in his war on crime. ...   \n",
      "3           Avatar  In the 22nd century, a paraplegic Marine is di...   \n",
      "4     The Avengers  When an unexpected enemy emerges and threatens...   \n",
      "\n",
      "  popularity                       poster_path  \\\n",
      "0     83.952  /oYuLEt3zVCKq57qu2F8dT7NIa6f.jpg   \n",
      "1    140.241  /gEU2QniE6E77NI6lCU6MxlNBvIx.jpg   \n",
      "2    130.643  /qJ2tW6WMUDux911r6m7haRef0WH.jpg   \n",
      "3     79.932  /kyeqWdyUXW608qlYkRqosgbbJyK.jpg   \n",
      "4     98.082   /RYMX2wcKCBAr24UyPD7xwmjaTn.jpg   \n",
      "\n",
      "                                             tagline  \\\n",
      "0               Your mind is the scene of the crime.   \n",
      "1  Mankind was born on Earth. It was never meant ...   \n",
      "2                  Welcome to a world without rules.   \n",
      "3                        Enter the world of Pandora.   \n",
      "4                            Some assembly required.   \n",
      "\n",
      "                                        genres  \\\n",
      "0           Action, Science Fiction, Adventure   \n",
      "1            Adventure, Drama, Science Fiction   \n",
      "2               Drama, Action, Crime, Thriller   \n",
      "3  Action, Adventure, Fantasy, Science Fiction   \n",
      "4           Science Fiction, Action, Adventure   \n",
      "\n",
      "                                production_companies  \\\n",
      "0  Legendary Pictures, Syncopy, Warner Bros. Pict...   \n",
      "1  Legendary Pictures, Syncopy, Lynda Obst Produc...   \n",
      "2  DC Comics, Legendary Pictures, Syncopy, Isobel...   \n",
      "3  Dune Entertainment, Lightstorm Entertainment, ...   \n",
      "4                                     Marvel Studios   \n",
      "\n",
      "                       production_countries  \\\n",
      "0  United Kingdom, United States of America   \n",
      "1  United Kingdom, United States of America   \n",
      "2  United Kingdom, United States of America   \n",
      "3  United States of America, United Kingdom   \n",
      "4                  United States of America   \n",
      "\n",
      "                     spoken_languages  \\\n",
      "0  English, French, Japanese, Swahili   \n",
      "1                             English   \n",
      "2                   English, Mandarin   \n",
      "3                    English, Spanish   \n",
      "4             English, Hindi, Russian   \n",
      "\n",
      "                                            keywords  \n",
      "0  rescue, mission, dream, airplane, paris, franc...  \n",
      "1  rescue, future, spacecraft, race against time,...  \n",
      "2  joker, sadism, chaos, secret identity, crime f...  \n",
      "3  future, society, culture clash, space travel, ...  \n",
      "4  new york city, superhero, shield, based on com...  \n",
      "\n",
      "[5 rows x 24 columns]\n"
     ]
    }
   ],
   "source": [
    "#Let explore the full movies dataset.\n",
    "\n",
    "print(df_full.head())"
   ]
  },
  {
   "cell_type": "code",
   "execution_count": 46,
   "id": "bf2dacb8-ff07-49e8-87dd-aab9fe41e010",
   "metadata": {},
   "outputs": [
    {
     "name": "stdout",
     "output_type": "stream",
     "text": [
      "Netflix dataset has:  8807 movies\n",
      "\n",
      " Amazon dataset has:  9668 movies\n",
      "\n",
      " Full dataset has:  1070718 movies\n",
      "\n",
      "\n"
     ]
    }
   ],
   "source": [
    "count_titles_netflix = len(df_netflix['title'])\n",
    "count_titles_amazon = len(df_amazon['title'])\n",
    "count_titles_full = len(df_full['title'])\n",
    "\n",
    "print(\"Netflix dataset has: \",count_titles_netflix, \"movies\\n\\n\",\n",
    "      \"Amazon dataset has: \",count_titles_amazon, \"movies\\n\\n\",\n",
    "      \"Full dataset has: \",count_titles_full, \"movies\\n\\n\")"
   ]
  },
  {
   "cell_type": "code",
   "execution_count": 38,
   "id": "e204e0f5-2f5d-4940-92a8-d13798e158d7",
   "metadata": {},
   "outputs": [
    {
     "name": "stdout",
     "output_type": "stream",
     "text": [
      "Netflix movies are in full dataset:False\n",
      "\n",
      "Netflix movies are in full dataset:False\n"
     ]
    }
   ],
   "source": [
    "#Analyzing if all the netflix and amazon movies are on full movies dataset\n",
    "\n",
    "full_titles = set(df_full['title'].dropna())\n",
    "netflix_titles = set(df_netflix['title'].dropna())\n",
    "amazon_titles = set(df_amazon['title'].dropna())\n",
    "\n",
    "netflix_in_full = netflix_titles.issubset(full_titles)\n",
    "print(f\"Netflix movies are in full dataset:{netflix_in_full}\" \"\\n\")\n",
    "\n",
    "amazon_in_full = amazon_titles.issubset(full_titles)\n",
    "print(f\"Amazon movies are in full dataset:{amazon_in_full}\")"
   ]
  },
  {
   "cell_type": "code",
   "execution_count": 50,
   "id": "d90166af-3938-4e8c-bab1-90ce73e8001e",
   "metadata": {},
   "outputs": [
    {
     "name": "stdout",
     "output_type": "stream",
     "text": [
      "Number of movies of netflix that are not on full dataset is: {2946} \n",
      "\n",
      " Number of movies of amazon that are not on full dataset is: {4167}\n"
     ]
    }
   ],
   "source": [
    "#Let's see how many movies are not on the dataset\n",
    "\n",
    "netflix_not_full = netflix_titles - full_titles\n",
    "count_netflix_not = len(netflix_not_full)\n",
    "amazon_not_full = amazon_titles - full_titles\n",
    "count_amazon_not = len(amazon_not_full)\n",
    "\n",
    "print(\"Number of movies of netflix that are not on full dataset is:\", {count_netflix_not}, \"\\n\\n\",\n",
    "      \"Number of movies of amazon that are not on full dataset is:\", {count_amazon_not})\n"
   ]
  },
  {
   "cell_type": "code",
   "execution_count": 55,
   "id": "731b56f3-c123-4a55-894c-ddeed560cc06",
   "metadata": {},
   "outputs": [
    {
     "name": "stdout",
     "output_type": "stream",
     "text": [
      "Netflix movies are: \n",
      "\n",
      "Border Security: America's Front Line\n",
      "Pettersson and Findus 2\n",
      "Power Rangers Samurai: Christmas Together, Friends Forever (Christmas Special)\n",
      "Strangers from Hell\n",
      "Galih dan Ratna\n",
      "Strongest Deliveryman\n",
      "Prince Jai Aur Dumdaar Viru\n",
      "Sam & Cat\n",
      "Sexo, Pudor y Lagrimas\n",
      "Power Rangers Super Samurai: Stuck on Christmas\n",
      "Inheritors\n",
      "Tobot Galaxy Detectives\n",
      "Mariusz Kałamaga, Karol Kopiec, Wiolka Walaszczyk Hilarious Trio\n",
      "Ingobernable\n",
      "The War: A Film by Ken Burns and Lynn Novick\n",
      "Love Storm\n",
      "Pop Team Epic\n",
      "Gormiti\n",
      "Frozen Planet: The Epic Journey\n",
      "Great News\n",
      "\n",
      "Amazon movies are: \n",
      "\n",
      "Border Security: America's Front Line\n",
      "Pettersson and Findus 2\n",
      "Power Rangers Samurai: Christmas Together, Friends Forever (Christmas Special)\n",
      "Strangers from Hell\n",
      "Galih dan Ratna\n",
      "Strongest Deliveryman\n",
      "Prince Jai Aur Dumdaar Viru\n",
      "Sam & Cat\n",
      "Sexo, Pudor y Lagrimas\n",
      "Power Rangers Super Samurai: Stuck on Christmas\n",
      "Inheritors\n",
      "Tobot Galaxy Detectives\n",
      "Mariusz Kałamaga, Karol Kopiec, Wiolka Walaszczyk Hilarious Trio\n",
      "Ingobernable\n",
      "The War: A Film by Ken Burns and Lynn Novick\n",
      "Love Storm\n",
      "Pop Team Epic\n",
      "Gormiti\n",
      "Frozen Planet: The Epic Journey\n",
      "Great News\n"
     ]
    }
   ],
   "source": [
    "#Let's see a little df of the movies that are not on the full movies\n",
    "\n",
    "list_netflix_not = list(netflix_not_full)\n",
    "list_amazon_not = list(netflix_not_full)\n",
    "first_20_movies_netflix = list_netflix_not[:20]\n",
    "first_20_movies_amazon = list_netflix_not[:20]\n",
    "\n",
    "print(\"Netflix movies are: \\n\")\n",
    "for movie in first_20_movies_netflix:\n",
    "    print(movie)\n",
    "    \n",
    "print(\"\\nAmazon movies are: \\n\")\n",
    "for movie in first_20_movies_amazon:\n",
    "    print(movie)"
   ]
  }
 ],
 "metadata": {
  "kernelspec": {
   "display_name": "Python 3 (ipykernel)",
   "language": "python",
   "name": "python3"
  },
  "language_info": {
   "codemirror_mode": {
    "name": "ipython",
    "version": 3
   },
   "file_extension": ".py",
   "mimetype": "text/x-python",
   "name": "python",
   "nbconvert_exporter": "python",
   "pygments_lexer": "ipython3",
   "version": "3.12.4"
  }
 },
 "nbformat": 4,
 "nbformat_minor": 5
}
